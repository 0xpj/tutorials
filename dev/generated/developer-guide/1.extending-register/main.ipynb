{
 "cells": [
  {
   "outputs": [],
   "cell_type": "markdown",
   "source": [
    "# Extending Register: an echo register"
   ],
   "metadata": {}
  },
  {
   "outputs": [],
   "cell_type": "markdown",
   "source": [
    "We show how to extend a register that prints the instructions to standard output\n",
    "instead of actually exexcuting the instructions."
   ],
   "metadata": {}
  },
  {
   "outputs": [],
   "cell_type": "code",
   "source": [
    "using Yao"
   ],
   "metadata": {},
   "execution_count": null
  },
  {
   "outputs": [],
   "cell_type": "markdown",
   "source": [
    "First you will need to define your own subtype that contains\n",
    "your desired data structure"
   ],
   "metadata": {}
  },
  {
   "outputs": [],
   "cell_type": "code",
   "source": [
    "mutable struct EchoReg{B} <: AbstractRegister{B}\n",
    "    nactive::Int\n",
    "    nqubits::Int\n",
    "end"
   ],
   "metadata": {},
   "execution_count": null
  },
  {
   "outputs": [],
   "cell_type": "markdown",
   "source": [
    "Then we need to define the most basic API: how many qubits are there"
   ],
   "metadata": {}
  },
  {
   "outputs": [],
   "cell_type": "code",
   "source": [
    "Yao.nactive(reg::EchoReg) = reg.nactive\n",
    "Yao.nqubits(reg::EchoReg) = reg.nqubits"
   ],
   "metadata": {},
   "execution_count": null
  },
  {
   "outputs": [],
   "cell_type": "markdown",
   "source": [
    "And define some instructions, as an echo register, we will just keep printing what we are asked to exexcute"
   ],
   "metadata": {}
  },
  {
   "outputs": [],
   "cell_type": "code",
   "source": [
    "function Yao.instruct!(::EchoReg{B}, args...) where {B, G}\n",
    "    str = join(string.(args), \", \")\n",
    "    println(\"calls: instruct!(reg, $str)\")\n",
    "end\n",
    "\n",
    "function Yao.focus!(reg::EchoReg{B}, locs) where {B}\n",
    "    println(\"focus -> $locs\")\n",
    "    reg.nactive = length(locs)\n",
    "    return true\n",
    "end\n",
    "\n",
    "function Yao.relax!(reg::EchoReg{B}, locs; to_nactive=nqubits(reg)) where {B}\n",
    "    reg.nactive = to_nactive\n",
    "    println(\"relax -> $locs\\\\$to_nactive\")\n",
    "    return true\n",
    "end\n",
    "\n",
    "function Yao.measure!(::NoPostProcess, ::ComputationalBasis, reg::EchoReg{B}, locs) where {B}\n",
    "    println(\"measure -> $locs\")\n",
    "    return true\n",
    "end"
   ],
   "metadata": {},
   "execution_count": null
  },
  {
   "outputs": [],
   "cell_type": "markdown",
   "source": [
    "Now we can check what will happen!"
   ],
   "metadata": {}
  },
  {
   "outputs": [],
   "cell_type": "code",
   "source": [
    "r = EchoReg{10}(3, 2)\n",
    "r |> put(3, 2=>X) |> control(3, 3, 2=>X) |> concentrate(3, put(1, 1=>X), 2:2) |> measure!"
   ],
   "metadata": {},
   "execution_count": null
  },
  {
   "outputs": [],
   "cell_type": "markdown",
   "source": [
    "But when we still require some more information from you"
   ],
   "metadata": {}
  },
  {
   "outputs": [],
   "cell_type": "markdown",
   "source": [
    "```julia\n",
    "r |> cache(X)\n",
    "```"
   ],
   "metadata": {}
  },
  {
   "outputs": [],
   "cell_type": "markdown",
   "source": [
    "An `NotImplementedError` will be thrown, no worries!"
   ],
   "metadata": {}
  },
  {
   "outputs": [],
   "cell_type": "markdown",
   "source": [
    "---\n",
    "\n",
    "*This notebook was generated using [Literate.jl](https://github.com/fredrikekre/Literate.jl).*"
   ],
   "metadata": {}
  }
 ],
 "nbformat_minor": 3,
 "metadata": {
  "language_info": {
   "file_extension": ".jl",
   "mimetype": "application/julia",
   "name": "julia",
   "version": "1.3.0"
  },
  "kernelspec": {
   "name": "julia-1.3",
   "display_name": "Julia 1.3.0",
   "language": "julia"
  }
 },
 "nbformat": 4
}
