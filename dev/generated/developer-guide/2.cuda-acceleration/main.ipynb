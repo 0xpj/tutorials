{
 "cells": [
  {
   "outputs": [],
   "cell_type": "markdown",
   "source": [
    "# CUDA acceleration of Quantum Simulation"
   ],
   "metadata": {}
  },
  {
   "outputs": [],
   "cell_type": "markdown",
   "source": [
    "For example, a SWAP gate can be instructed on a GPU register like"
   ],
   "metadata": {}
  },
  {
   "outputs": [],
   "cell_type": "markdown",
   "source": [
    "```julia\n",
    "function instruct!(reg::GPUReg, ::Val{:SWAP}, locs::Tuple{Int,Int})\n",
    "    b1, b2 = locs\n",
    "    state = statevec(reg)\n",
    "    mask1 = bmask(b1)\n",
    "    mask2 = bmask(b2)"
   ],
   "metadata": {}
  },
  {
   "outputs": [],
   "cell_type": "markdown",
   "source": [
    "    function kf(state, mask1, mask2)\n",
    "        inds = ((blockIdx().x-1) * blockDim().x + threadIdx().x,\n",
    "                       (blockIdx().y-1) * blockDim().y + threadIdx().y)\n",
    "        b = inds[1]-1\n",
    "        c = inds[2]\n",
    "        c <= size(state, 2) || return nothing\n",
    "        if b&mask1==0 && b&mask2==mask2\n",
    "            i = b+1\n",
    "            i_ = b  (mask1|mask2) + 1\n",
    "            temp = state[i, c]\n",
    "            state[i, c] = state[i_, c]\n",
    "            state[i_, c] = temp\n",
    "        end\n",
    "        nothing\n",
    "    end\n",
    "    X, Y = cudiv(size(state)...)\n",
    "    @cuda threads=X blocks=Y kf(state, mask1, mask2)\n",
    "    state\n",
    "end\n",
    "```"
   ],
   "metadata": {}
  },
  {
   "outputs": [],
   "cell_type": "markdown",
   "source": [
    "Here, we devide the threads and blocks into a two dimensional grid with a same shape as the input GPUReg storage (i.e. ``2^a\\times 2^rB``).\n",
    "Only if two qubits at `locs` are $0$ and $1$ respectively, they are exchanged, otherwise do nothing.\n",
    "Although $3/4$ of threads are idle and plenty room for optimization, from this example, we see how easy CUDA programming is with\n",
    "[CUDAnative](https://github.com/JuliaGPU/CUDAnative.jl)."
   ],
   "metadata": {}
  },
  {
   "outputs": [],
   "cell_type": "markdown",
   "source": [
    "---\n",
    "\n",
    "*This notebook was generated using [Literate.jl](https://github.com/fredrikekre/Literate.jl).*"
   ],
   "metadata": {}
  }
 ],
 "nbformat_minor": 3,
 "metadata": {
  "language_info": {
   "file_extension": ".jl",
   "mimetype": "application/julia",
   "name": "julia",
   "version": "1.3.0"
  },
  "kernelspec": {
   "name": "julia-1.3",
   "display_name": "Julia 1.3.0",
   "language": "julia"
  }
 },
 "nbformat": 4
}
