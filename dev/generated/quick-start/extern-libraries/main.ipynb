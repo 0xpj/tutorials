{
 "cells": [
  {
   "outputs": [],
   "cell_type": "markdown",
   "source": [
    "# Using External Libraries"
   ],
   "metadata": {}
  },
  {
   "outputs": [],
   "cell_type": "markdown",
   "source": [
    "It is straightforward to make use of external libraries\n",
    "written in other language. For example, the following\n",
    "codes import modules from the [OpenFermion](https://github.com/quantumlib/OpenFermion)\n",
    "and construct a qubit Hamiltonian for molecules as quantum blocks in Yao."
   ],
   "metadata": {}
  },
  {
   "outputs": [],
   "cell_type": "code",
   "source": [
    "using Yao\n",
    "using LinearAlgebra\n",
    "using PyCall"
   ],
   "metadata": {},
   "execution_count": null
  },
  {
   "outputs": [],
   "cell_type": "markdown",
   "source": [
    "First we import hamiltonians from OpenFermion and PySCF"
   ],
   "metadata": {}
  },
  {
   "outputs": [],
   "cell_type": "code",
   "source": [
    "of_hamil = pyimport(\"openfermion.hamiltonians\")\n",
    "of_trsfm = pyimport(\"openfermion.transforms\")\n",
    "of_pyscf = pyimport(\"openfermionpyscf\")"
   ],
   "metadata": {},
   "execution_count": null
  },
  {
   "outputs": [],
   "cell_type": "markdown",
   "source": [
    "following the OpenFermion and PySCF tutorial, we define molecules from data."
   ],
   "metadata": {}
  },
  {
   "outputs": [],
   "cell_type": "code",
   "source": [
    "diatomic_bond_length = 1.0\n",
    "geometry = [(\"H\", (0., 0., 0.)), (\"H\", (0., 0., diatomic_bond_length))]\n",
    "basis = \"sto-3g\"\n",
    "multiplicity = 1\n",
    "charge = 0\n",
    "description = string(diatomic_bond_length)\n",
    "\n",
    "molecule = of_hamil.MolecularData(geometry, basis, multiplicity, charge, description)\n",
    "molecule = of_pyscf.run_pyscf(molecule,run_scf=1,run_fci=1)"
   ],
   "metadata": {},
   "execution_count": null
  },
  {
   "outputs": [],
   "cell_type": "markdown",
   "source": [
    "Then obtain its Hamiltonian"
   ],
   "metadata": {}
  },
  {
   "outputs": [],
   "cell_type": "code",
   "source": [
    "m_h = molecule.get_molecular_hamiltonian()\n",
    "nbits = m_h.n_qubits\n",
    "\n",
    "jw_h = of_trsfm.jordan_wigner(of_trsfm.get_fermion_operator(m_h))"
   ],
   "metadata": {},
   "execution_count": null
  },
  {
   "outputs": [],
   "cell_type": "markdown",
   "source": [
    "now, let's construct the corresponding Hamiltonian in Yao"
   ],
   "metadata": {}
  },
  {
   "outputs": [],
   "cell_type": "code",
   "source": [
    "function yao_hamiltonian(nbits, jw_h)\n",
    "    gates = Dict(\"X\"=>X, \"Y\"=>Y, \"Z\"=>Z)\n",
    "    h = Add{nbits}()\n",
    "    for (k, v) in jw_h.terms\n",
    "        op = v*put(nbits, 1=>I2)\n",
    "        for t in k\n",
    "            site, opname = t\n",
    "            op = op*put(nbits, site+1=>gates[opname])\n",
    "        end\n",
    "        push!(h, op)\n",
    "    end\n",
    "    h\n",
    "end"
   ],
   "metadata": {},
   "execution_count": null
  },
  {
   "outputs": [],
   "cell_type": "markdown",
   "source": [
    "Yah!"
   ],
   "metadata": {}
  },
  {
   "outputs": [],
   "cell_type": "code",
   "source": [
    "yao_h = yao_hamiltonian(nbits, jw_h)"
   ],
   "metadata": {},
   "execution_count": null
  },
  {
   "outputs": [],
   "cell_type": "markdown",
   "source": [
    "now let's try to calculate its eigen values"
   ],
   "metadata": {}
  },
  {
   "outputs": [],
   "cell_type": "code",
   "source": [
    "w, v = eigen(Matrix(yao_h))"
   ],
   "metadata": {},
   "execution_count": null
  },
  {
   "outputs": [],
   "cell_type": "markdown",
   "source": [
    "---\n",
    "\n",
    "*This notebook was generated using [Literate.jl](https://github.com/fredrikekre/Literate.jl).*"
   ],
   "metadata": {}
  }
 ],
 "nbformat_minor": 3,
 "metadata": {
  "language_info": {
   "file_extension": ".jl",
   "mimetype": "application/julia",
   "name": "julia",
   "version": "1.3.0"
  },
  "kernelspec": {
   "name": "julia-1.3",
   "display_name": "Julia 1.3.0",
   "language": "julia"
  }
 },
 "nbformat": 4
}
