{
 "cells": [
  {
   "outputs": [],
   "cell_type": "markdown",
   "source": [
    "# Variational Quantum Eigen Solver"
   ],
   "metadata": {}
  },
  {
   "outputs": [],
   "cell_type": "code",
   "source": [
    "using Yao, Yao.AD, YaoExtensions\n",
    "\n",
    "\n",
    "using YaoExtensions: get_diffblocks, _perturb\n",
    "using StatsBase\n",
    "\n",
    "function _expect(op::AbstractBlock, reg::ArrayReg; nshots=nothing)\n",
    "    if nshots === nothing\n",
    "        expect(op, reg)\n",
    "    else\n",
    "        mean(measure(op, copy(reg); nshots=nshots))\n",
    "    end\n",
    "end\n",
    "\n",
    "@inline function my_faithful_grad(op::AbstractBlock, pair::Pair{<:ArrayReg, <:AbstractBlock}; nshots=nothing)\n",
    "    map(get_diffblocks(pair.second)) do diffblock\n",
    "        r1, r2 = _perturb(()->_expect(op, copy(pair.first) |> pair.second; nshots=nshots) |> real, diffblock, π/2)\n",
    "        (r2 - r1)/2\n",
    "    end\n",
    "end\n",
    "\n",
    "n = 4\n",
    "d = 5\n",
    "circuit = dispatch!(variational_circuit(n, d),:random)\n",
    "\n",
    "gatecount(circuit)\n",
    "\n",
    "h = heisenberg(n)\n",
    "\n",
    "for i in 1:1000\n",
    "      grad = my_faithful_grad(h, zero_state(n) => circuit; nshots=100)\n",
    "\n",
    "      dispatch!(-, circuit, 1e-2 * grad)\n",
    "      println(\"Step $i, energy = $(real.(expect(h, zero_state(n)=>circuit)))\")\n",
    "end\n",
    "\n",
    "using LinearAlgebra\n",
    "w, _ = eigen(Matrix(mat(h)))"
   ],
   "metadata": {},
   "execution_count": null
  },
  {
   "outputs": [],
   "cell_type": "markdown",
   "source": [
    "---\n",
    "\n",
    "*This notebook was generated using [Literate.jl](https://github.com/fredrikekre/Literate.jl).*"
   ],
   "metadata": {}
  }
 ],
 "nbformat_minor": 3,
 "metadata": {
  "language_info": {
   "file_extension": ".jl",
   "mimetype": "application/julia",
   "name": "julia",
   "version": "1.3.0"
  },
  "kernelspec": {
   "name": "julia-1.3",
   "display_name": "Julia 1.3.0",
   "language": "julia"
  }
 },
 "nbformat": 4
}
