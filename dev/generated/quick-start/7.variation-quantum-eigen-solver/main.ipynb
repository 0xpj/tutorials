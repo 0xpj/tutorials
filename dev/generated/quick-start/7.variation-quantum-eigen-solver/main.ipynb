{
 "cells": [
  {
   "outputs": [],
   "cell_type": "markdown",
   "source": [
    "# Variational Quantum Eigen Solver"
   ],
   "metadata": {}
  },
  {
   "outputs": [],
   "cell_type": "code",
   "source": [
    "using Yao, Yao.AD, YaoExtensions\n",
    "\n",
    "n = 4 # number of qubits\n",
    "d = 5 # depth\n",
    "circuit = dispatch!(variational_circuit(n, d),:random)\n",
    "\n",
    "gatecount(circuit)\n",
    "\n",
    "nparameters(circuit)\n",
    "\n",
    "h = heisenberg(n)\n",
    "\n",
    "for i in 1:1000"
   ],
   "metadata": {},
   "execution_count": null
  },
  {
   "outputs": [],
   "cell_type": "markdown",
   "source": [
    "pick the one you like\n",
    "either reverse-mode"
   ],
   "metadata": {}
  },
  {
   "outputs": [],
   "cell_type": "code",
   "source": [
    "      _, grad = expect'(h, zero_state(n) => circuit)"
   ],
   "metadata": {},
   "execution_count": null
  },
  {
   "outputs": [],
   "cell_type": "markdown",
   "source": [
    "or forward mode"
   ],
   "metadata": {}
  },
  {
   "outputs": [],
   "cell_type": "code",
   "source": [
    "      #grad = faithful_grad(h, zero_state(n) => circuit; nshots=100)\n",
    "\n",
    "      dispatch!(-, circuit, 1e-2 * grad)\n",
    "      println(\"Step $i, energy = $(real.(expect(h, zero_state(n)=>circuit)))\")\n",
    "end\n",
    "\n",
    "using LinearAlgebra\n",
    "w, _ = eigen(Matrix(mat(h)))"
   ],
   "metadata": {},
   "execution_count": null
  },
  {
   "outputs": [],
   "cell_type": "markdown",
   "source": [
    "---\n",
    "\n",
    "*This notebook was generated using [Literate.jl](https://github.com/fredrikekre/Literate.jl).*"
   ],
   "metadata": {}
  }
 ],
 "nbformat_minor": 3,
 "metadata": {
  "language_info": {
   "file_extension": ".jl",
   "mimetype": "application/julia",
   "name": "julia",
   "version": "1.3.0"
  },
  "kernelspec": {
   "name": "julia-1.3",
   "display_name": "Julia 1.3.0",
   "language": "julia"
  }
 },
 "nbformat": 4
}
